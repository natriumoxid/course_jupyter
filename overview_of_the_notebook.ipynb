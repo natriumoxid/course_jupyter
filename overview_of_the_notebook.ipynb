{
  "nbformat": 4,
  "nbformat_minor": 0,
  "metadata": {
    "colab": {
      "name": "Copy of overview_of_the_notebook.ipynb",
      "version": "0.3.2",
      "provenance": [],
      "collapsed_sections": []
    },
    "kernelspec": {
      "name": "python3",
      "display_name": "Python 3"
    }
  },
  "cells": [
    {
      "cell_type": "markdown",
      "metadata": {
        "id": "_CM1Jzmk0zWv",
        "colab_type": "text"
      },
      "source": [
        "# Cells\n",
        "\n",
        "A notebook is a list of cells. Cells contain either explanatory text or executable code and its output. Click a cell to select it."
      ]
    },
    {
      "cell_type": "markdown",
      "metadata": {
        "id": "Vv5KQ1Mp03cL",
        "colab_type": "text"
      },
      "source": [
        "## Working with markdown\n",
        "What ist markdown?\n",
        "\n",
        "Markdown is intended to be as easy-to-read and easy-to-write as is feasible:"
      ]
    },
    {
      "cell_type": "markdown",
      "metadata": {
        "id": "ERJwV_r81GWj",
        "colab_type": "text"
      },
      "source": [
        "## Header\n",
        "\n",
        "    # This is an H1\n",
        "    ## This is an H2\n",
        "    ###### This is an H6\n",
        "\n",
        "\n",
        "## Lists\n",
        "Markdown supports ordered and unordered lists.\n",
        "\n",
        "    - Red\n",
        "    - Green\n",
        "    - Blue\n",
        "\n",
        "    1. Bird\n",
        "    2. McHale\n",
        "    3. Parish\n",
        "    \n",
        "    To start a check list, write this:\n",
        "\n",
        "    - [ ] this is not checked\n",
        "    - [ ] this is too\n",
        "    - [x] but this is checked"
      ]
    },
    {
      "cell_type": "markdown",
      "metadata": {
        "id": "97BYFoJc73Dd",
        "colab_type": "text"
      },
      "source": [
        "## Exercise1\n",
        "Format the following text using the markdown **header** and **lists**.\n",
        "\n",
        "\n",
        "    1 Introduction \n",
        "        Points to remember:\n",
        "        - First point\n",
        "        - Second point\n",
        "        - Third point\n",
        "     \n",
        "        Things to do:\n",
        "         - First thing to do\n",
        "         - Second thing to do \n",
        "         - Third thing to do\n",
        "       \n",
        "       2 Results\n",
        "             2.1 Subresults\n",
        "                    2.1.1 Subsubresults\n",
        "                    2.1.1 Even more subsubresults\n",
        "             2.2 Other subresults\n",
        "        3 Bibliography\n",
        "              \n",
        "     \n",
        "        \n",
        "    "
      ]
    },
    {
      "cell_type": "markdown",
      "metadata": {
        "id": "i-KBD00l1WS7",
        "colab_type": "text"
      },
      "source": [
        "## Horizontal Rules\n",
        "\n",
        "    ---\n",
        "    ***\n",
        "\n",
        "## Basic Text Formatiing\n",
        "\n",
        "    *this is in italic*  and _so is this_\n",
        "\n",
        "    **this is in bold**  and __so is this__\n",
        "\n",
        "    ***this is bold and italic***  and ___so is this___\n",
        "\n",
        "     <s>this is strike through text</s> and ~~so is this~~ \n",
        "       \n",
        "       `This is a monospaced text`\n",
        "\n",
        "A carriage return\n",
        "makes a line break.\n",
        "\n",
        "Two carriage returns make a new paragraph."
      ]
    },
    {
      "cell_type": "markdown",
      "metadata": {
        "id": "madMig4u_Oan",
        "colab_type": "text"
      },
      "source": [
        "## Exercise 2\n",
        "\n",
        "Format the following text. The following rules should apply: \n",
        "\n",
        "1. *Lorum* must be in bold type\n",
        "2. *sed* must be in italic type\n",
        "3. *dolores* must appear as strike through text. \n",
        "\n",
        "\n",
        "          Lorem ipsum dolor sit amet, consetetur sadipscing elitr, sed diam nonumy eirmod tempor invidunt ut labore et dolore magna aliquyam erat, sed diam voluptua. At vero eos et accusam et justo duo dolores et ea rebum. Stet clita kasd gubergren, no sea takimata sanctus est Lorem ipsum dolor sit amet. Lorem ipsum dolor sit amet, consetetur sadipscing elitr, sed diam nonumy eirmod tempor invidunt ut labore et dolore magna aliquyam erat, sed diam voluptua. At vero eos et accusam et justo duo dolores et ea rebum. Stet clita kasd gubergren, no sea takimata sanctus est Lorem ipsum dolor sit amet.\n"
      ]
    },
    {
      "cell_type": "markdown",
      "metadata": {
        "id": "7jlw9nNx14BA",
        "colab_type": "text"
      },
      "source": [
        "## Links\n",
        "\n",
        "Most URLs will automatically be turned into links.\n",
        "\n",
        "    <https://www.unibas.ch>\n",
        "\n",
        "\n",
        "To use text for the link, write it:\n",
        "\n",
        "    This is an [example link](http://example.com).\n",
        "\n",
        "You can add a *title* (which shows up under the cursor):\n",
        "\n",
        "\n",
        "    [like this](http://someurl \"this title shows up when you hover\")\n",
        "\n",
        "## Reference Links\n",
        "\n",
        "You can also put the \\[link URL]\\[1] below the current paragraph\n",
        "like \\[this]\\[2].\n",
        "\n",
        "    [1]: http://url\n",
        "    [2]: http://another.url \"A funky title\"\n",
        "\n",
        "Or you can use a \\[shortcut]\\[] reference, which links the text\n",
        "\"shortcut\" to the link named \"\\[shortcut]\" on the next paragraph.\n",
        "\n",
        "    [shortcut]: http://goes/with/the/link/name/text\n",
        "    \n"
      ]
    },
    {
      "cell_type": "markdown",
      "metadata": {
        "id": "Akz7HfUj3_O0",
        "colab_type": "text"
      },
      "source": [
        "## Blockquotes\n",
        "\n",
        "Use the > character in front of a line, just like in email\n",
        "\n",
        "    > Use it if you're quoting a person, a song or whatever.\n",
        "\n",
        "> You can use *italic* or lists inside them also.\n",
        "         And just like with other paragraphs,\n",
        "         all of these lines are still\n",
        "         part of the blockquote, even without the > character in front.\n",
        "\n",
        "To end the blockquote, just put a blank line before the following\n",
        "paragraph.\n",
        "\n",
        "## Preformatted Text\n",
        "If you want some text to show up exactly as you write it, without Markdown doing anything to it, just indent every line by at least 4 spaces (or 1 tab). As an alternative to indenting, you can make a code block use 3 or more tildes (\\~) or backticks (\\`) on a line before and after the text (syntax details).\n",
        "\n",
        "\n",
        "\n",
        "    This line won't *have any markdown* formatting applied.\n",
        "    I can even write <b>HTML</b> and it will show up as text.\n",
        "    This is great for showing program source code, or HTML or even\n",
        "    Markdown. <b>this won't show up as HTML</b> but\n",
        "    exactly <i>as you see it in this text file</i>.\n",
        "\n",
        "    Within a paragraph, you can use backquotes to do the same thing.\n",
        "    `This won't be *italic* or **bold** at all.`\n",
        "\n"
      ]
    },
    {
      "cell_type": "markdown",
      "metadata": {
        "id": "bIaJcS2e4_fD",
        "colab_type": "text"
      },
      "source": [
        "## $\\LaTeX$\n",
        "\n",
        "Equations are surrounded by `$`. For example, `$y = 0.1 x$` renders as the following inline equation: $y = 0.1 x$. Double the `$` to set the contents off on its own centered line."
      ]
    },
    {
      "cell_type": "markdown",
      "metadata": {
        "id": "_B93C3BM5EQA",
        "colab_type": "text"
      },
      "source": [
        "## Tables\n",
        "\n",
        "You can create tables using pipes and dashes like this:\n",
        "\n",
        "    First Header  | Second Header\n",
        "    ------------- | -------------\n",
        "    Content Cell  | Content Cell\n",
        "    Content Cell  | Content Cell\n",
        "    \n",
        "   \n",
        "You can use markdown syntax within table cells for formatting:\n",
        "\n",
        "    First Header   | Second Header\n",
        "      -------------  | -------------\n",
        "    *Content Cell* | Content Cell\n",
        "    Content Cell   | Content Cell\n",
        "    \n",
        "\n"
      ]
    },
    {
      "cell_type": "markdown",
      "metadata": {
        "id": "0B20DvfrAwSL",
        "colab_type": "text"
      },
      "source": [
        "## Exercise 3\n",
        "\n",
        "Create a 3x3 table with following content:\n",
        "\n",
        "        Header1    Header2   Header3\n",
        "        Ce111      Cell2     Cell3\n",
        "        Cell4      Cell5     Cell6\n",
        "        Cell7      Cell8     Cell9\n",
        "        \n",
        "\n"
      ]
    },
    {
      "cell_type": "markdown",
      "metadata": {
        "id": "xqDUBMrvfubM",
        "colab_type": "text"
      },
      "source": [
        "## Images\n",
        "To include an image, just put a \"!\" in front of a text link:\n",
        "\n",
        "    ![alternate text](https://sourceforge.net/images/icon_linux.gif)\n",
        "\n",
        "The \"alternate text\" will show up if the browser can't load the image.\n",
        "\n",
        "You can also use a title if you want, like this:\n",
        "      \n",
        "      ![tiny arrow](https://sourceforge.net/images/icon_linux.gif \"tiny arrow\")\n",
        "\n",
        "\n",
        "## Escapes\n",
        "What if you want to just show asterisks, not italics?\n",
        "\n",
        "\n",
        "    * this shows up in italics: *a happy day*\n",
        "    * this shows the asterisks: \\*a happy day\\*\n",
        "\n",
        "The backslashes will disappear and leave the asterisks. You can do the same with any of the characters that have a special meaning\n",
        "for Markdown.\n",
        "\n",
        "Many simple HTML tags are allowed, for example \\<b> And unknown tags will be dropped. To show a literal \\<b> or an unknown tag like \\<foobar> you need escape it with HTML entities: :\n",
        "  \n",
        "       <b>this will be bold</b>\n",
        "        you should escape &lt;unknown&gt; tags\n",
        "        &copy; special entities work\n",
        "        &amp;copy; if you want to escape it\n",
        "\n",
        "    \n",
        "    "
      ]
    },
    {
      "cell_type": "markdown",
      "metadata": {
        "id": "1_hruInYPieY",
        "colab_type": "text"
      },
      "source": [
        "# Code"
      ]
    },
    {
      "cell_type": "code",
      "metadata": {
        "id": "ZZxqUYYPPo7o",
        "colab_type": "code",
        "outputId": "8529c087-b5f3-4f85-b20c-4d02fd281cb5",
        "colab": {
          "base_uri": "https://localhost:8080/",
          "height": 34
        }
      },
      "source": [
        "seconds_in_a_day = 24 * 60 * 60\n",
        "seconds_in_a_day"
      ],
      "execution_count": 0,
      "outputs": [
        {
          "output_type": "execute_result",
          "data": {
            "text/plain": [
              "86400"
            ]
          },
          "metadata": {
            "tags": []
          },
          "execution_count": 1
        }
      ]
    },
    {
      "cell_type": "code",
      "metadata": {
        "id": "kevyWaMGPzIP",
        "colab_type": "code",
        "outputId": "fc5188d8-d19f-4148-de10-e3e5738ba4d1",
        "colab": {
          "base_uri": "https://localhost:8080/",
          "height": 34
        }
      },
      "source": [
        "seconds_in_a_week = seconds_in_a_day * 7\n",
        "seconds_in_a_week"
      ],
      "execution_count": 0,
      "outputs": [
        {
          "output_type": "execute_result",
          "data": {
            "text/plain": [
              "604800"
            ]
          },
          "metadata": {
            "tags": []
          },
          "execution_count": 2
        }
      ]
    },
    {
      "cell_type": "markdown",
      "metadata": {
        "id": "brE0GRpGB5Zr",
        "colab_type": "text"
      },
      "source": [
        "## Exercise 4\n",
        "\n",
        "To calculate the lifting work the hiker does for his own mass (m  = 76 kg) on the ascent to h = 1200 m higher summit, the given values must be used only in the formula of the lifting work: \n",
        "\n",
        "$W = m \\cdot g \\cdot h$\n",
        "\n",
        "With $ g = 9,81 \\frac{N}{Kg} $ \n",
        "\n",
        "Write a Python script that calculates the lifting work for the hiker in $kJ$.\n",
        "\n"
      ]
    }
  ]
}