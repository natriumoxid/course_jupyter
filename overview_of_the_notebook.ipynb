{
  "nbformat": 4,
  "nbformat_minor": 0,
  "metadata": {
    "colab": {
      "name": "overview_of_the_notebook.ipynb",
      "version": "0.3.2",
      "provenance": [],
      "collapsed_sections": []
    },
    "kernelspec": {
      "name": "python3",
      "display_name": "Python 3"
    }
  },
  "cells": [
    {
      "cell_type": "markdown",
      "metadata": {
        "id": "c-5ApbzJfh9j",
        "colab_type": "text"
      },
      "source": [
        "# Cells\n",
        "A notebook is a list of cells. Cells contain either explanatory text or executable code and its output. Click a cell to select it.\n",
        "\n",
        "\n"
      ]
    },
    {
      "cell_type": "markdown",
      "metadata": {
        "id": "xqDUBMrvfubM",
        "colab_type": "text"
      },
      "source": [
        "# Working with markdown\n",
        "\n",
        "\n",
        "## What ist markdown?\n",
        "Markdown is intended to be as easy-to-read  and easy-to-write as is feasible:\n",
        "\n",
        "## Header\n",
        "\n",
        "    # This is an H1\n",
        "    ## This is an H2\n",
        "    ###### This is an H6\n",
        "\n",
        "    > Quoting passages with paragraphs \n",
        "\n",
        "    >  ## Blockquotes with header\n",
        "    > 1.  This is the first list item.\n",
        "    > 2. This is the second list item.\n",
        "\n",
        "\n",
        "## Lists\n",
        "Markdown supports ordered and unordered lists.\n",
        "\n",
        "    - Red\n",
        "    - Green\n",
        "    - Blue\n",
        "\n",
        "    1. Bird\n",
        "    2. McHale\n",
        "    3. Parish\n",
        "\n",
        "\n",
        "\n",
        "## Horizontal Rules\n",
        "\n",
        "    ---\n",
        "    ***\n",
        "\n",
        "## Emphasis\n",
        "\n",
        " \n",
        "     **bold**\n",
        "      *italic*\n",
        "      **mix _ing_**\n",
        "       ~~Strikethrough~~\n",
        "       `monospace`\n",
        "\n",
        "## Links\n",
        "Markdown supports two styles for creating links: inline and reference. With both styles, you use square brackets to delimit the text you want to turn into a link.\n",
        "\n",
        "\n",
        "    [Links](https://www.unibas.ch) \n",
        "\n",
        "\n",
        "With title attribute in the parentheses:\n",
        "\n",
        "    This is an [example link](http://example.com/ \"With a Title\").\n",
        "\n",
        "\n",
        "## References\n",
        "\n",
        "This is the [University Basel][1] \n",
        "\n",
        "\n",
        "[1]: http://www.unibas.ch\n",
        "\n",
        "\n",
        "\n",
        "\n",
        "## $\\LaTeX$\n",
        "\n",
        "Equations are surrounded by `$`. For example, `$y = 0.1 x$` renders as the following inline equation: $y = 0.1 x$. Double the `$` to set the contents off on its own centered line.\n",
        "\n",
        "## Images\n",
        "  \n",
        "Admittedly, it’s fairly difficult to devise a “natural” syntax for placing images into a plain text document format.\n",
        "\n",
        "Markdown uses an image syntax that is intended to resemble the syntax for links, allowing for two styles: inline and reference.\n",
        "\n",
        "Inline image syntax looks like this:\n",
        "\n",
        "    ![Alt text](/path/to/img.jpg)\n",
        "    \n",
        "    ![Alt text](/path/to/img.jpg \"Optional title\")\n",
        "    \n",
        "    \n",
        "## Tables\n",
        "\n",
        "    >First column name | Second column name\n",
        "    >--- | ---\n",
        "    >Row 1, Col 1 | Row 1, Col 2\n",
        "    >Row 2, Col 1 | Row 2, Col 2\n",
        "\n",
        "## Task List\n",
        "\n",
        "    - [x] Finish my changes\n",
        "    - [ ] Push my commits to GitHub\n",
        "    - [ ] Open a pull request\n",
        "\n",
        "## Escapes\n",
        "\n",
        "    \\   backslash\n",
        "    `   backtick\n",
        "    *   asterisk\n",
        "    _   underscore\n",
        "    {}  curly braces\n",
        "    []  square brackets\n",
        "    ()  parentheses\n",
        "    #   hash mark\n",
        "    +   plus sign\n",
        "    -   minus sign (hyphen)\n",
        "    .   dot\n",
        "    !   exclamation mark\n",
        "    \n",
        "## More\n",
        "\n",
        "* https://daringfireball.net/projects/markdown/syntax\n",
        "\n",
        "* https://help.github.com/en/articles/getting-started-with-writing-and-formatting-on-github\n",
        "    "
      ]
    },
    {
      "cell_type": "markdown",
      "metadata": {
        "id": "1_hruInYPieY",
        "colab_type": "text"
      },
      "source": [
        "# Code"
      ]
    },
    {
      "cell_type": "code",
      "metadata": {
        "id": "ZZxqUYYPPo7o",
        "colab_type": "code",
        "colab": {
          "base_uri": "https://localhost:8080/",
          "height": 34
        },
        "outputId": "8529c087-b5f3-4f85-b20c-4d02fd281cb5"
      },
      "source": [
        "seconds_in_a_day = 24 * 60 * 60\n",
        "seconds_in_a_day"
      ],
      "execution_count": 1,
      "outputs": [
        {
          "output_type": "execute_result",
          "data": {
            "text/plain": [
              "86400"
            ]
          },
          "metadata": {
            "tags": []
          },
          "execution_count": 1
        }
      ]
    },
    {
      "cell_type": "code",
      "metadata": {
        "id": "kevyWaMGPzIP",
        "colab_type": "code",
        "colab": {
          "base_uri": "https://localhost:8080/",
          "height": 34
        },
        "outputId": "fc5188d8-d19f-4148-de10-e3e5738ba4d1"
      },
      "source": [
        "seconds_in_a_week = seconds_in_a_day * 7\n",
        "seconds_in_a_week"
      ],
      "execution_count": 2,
      "outputs": [
        {
          "output_type": "execute_result",
          "data": {
            "text/plain": [
              "604800"
            ]
          },
          "metadata": {
            "tags": []
          },
          "execution_count": 2
        }
      ]
    }
  ]
}